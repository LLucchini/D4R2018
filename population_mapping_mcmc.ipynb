# Given CDR data for the night mobile phone activity,
# we implement the code for the model proposed by Deville P.
# ----------------------------------------------------------------------------------------------------- #

import numpy as np
import pandas as pd
import pymc3 as pm

import matplotlib.pyplot as plt
%matplotlib inline

# ----------------------------------------------------------------------------------------------------- #

### Load densities' dataset
densities = pd.read_pickle('densities_province.pkl')

# ----------------------------------------------------------------------------------------------------- #

def model_mcmc_normal(X,Y):
    ### Definition of the MonteCarloMarkovChain model that will be used to optimize the value of the parameters
    """
      Params:
          X = pd.Series containing the mobile phone calls
          Y = pd.Series containing the population data
      Returns:
          population_model = pymc3 MCMC model 
    """
    with pm.Model() as population_model:
        # Priors for the unknown model parameters
        alpha = pm.Normal('alpha', mu=10, sd=10)
        beta = pm.Normal('beta', mu=1, sd=1)
        sigma = pm.HalfNormal('sigma', sd=10)

        # Expected value of outcome
        mu = alpha+beta*np.log10(X)

        # Likelihood (sampling distribution) of observations
        Y_obs = pm.Normal('Y_obs', mu=mu, sd=sigma, observed=np.log10(Y))
    
    return population_model

def model_mcmc_student_T(X,Y):
    ### Definition of the MonteCarloMarkovChain model that will be used to optimize the value of the parameters
    """
      Params:
          X = pd.Series containing the mobile phone calls
          Y = pd.Series containing the population data
      Returns:
          population_model = pymc3 MCMC model 
    """
    with pm.Model() as population_model:
        # Priors for the unknown model parameters
        alpha = pm.Normal('alpha', mu=10, sd=10)
        beta = pm.Normal('beta', mu=1, sd=1)
#         sigma = pm.HalfNormal('sigma', sd=10)

        # Expected value of outcome
        mu = alpha+beta*np.log10(X)

        # Likelihood (sampling distribution) of observations
        Y_obs = pm.StudentT('Y_obs', nu=3, mu=mu, observed=np.log10(Y))
    
    return population_model

# ----------------------------------------------------------------------------------------------------- #
# ------------------------------------- All-in model no test set -------------------------------------- #
# ----------------------------------------------------------------------------------------------------- #
# MCMC for the complete dataset
Normal = True
# studentT = True

data_size = len(densities)
pop_col = 'pop_density_t'
phone_col = 'calls_outgoing_density_t'

df_rand = densities.sample(data_size, axis=0)
train = df_rand.copy()

X = np.array(train[phone_col])
Y = np.array(train[pop_col])

# Initialize the baesyan model with the data
if Normal:
    int_model = model_mcmc_normal(X,Y)
elif studentT:
    int_model = model_mcmc_student_T(X,Y)

step = pm.NUTS(model=int_model)
trace = pm.sample(6000, model=int_model, step=step, tune=1000, njobs=4, chains=2)

Y_model = trace['alpha'].mean()+trace['beta'].mean()*np.log10(X)

pm.traceplot(trace);
# ----------------------------------------------------------------------------------------------------- #

print(pm.stats.waic(trace=trace, model=int_model))
print(pm.stats.r2_score(np.log10(Y),Y_model))

# ----------------------------------------------------------------------------------------------------- #
alpha_t = round(trace['alpha'].mean(),3)
alpha_st_t = round(trace['alpha'].std(),3)
beta_t = round(trace['beta'].mean(),3)
beta_st_t = round(trace['beta'].std(),3)
sigma_t = round(trace['sigma'].mean(),3)
sigma_st_t = round(trace['sigma'].std(),3)
# ----------------------------------------------------------------------------------------------------- #

# Scatter of the logged values of the provinces population density: real -xaxis; modeled-yaxis
fig, ax = plt.subplots(1,1,figsize=(8,8))
ax.scatter(np.log10(Y),Y_model)
ax.plot([0.75,3.25],[0.75,3.25])
plt.text(.8, 3., 'alpha={}+-{},\nbeta={}+-{}\nsigma={}+-{}'.format(alpha_t,alpha_st_t,beta_t,beta_st_t,sigma_t,sigma_st_t), fontsize=15)
plt.title('Turk_model out_call', fontsize=15);
# plt.xlim(2.25,7.55)
# plt.ylim(2.25,7.55)

# ----------------------------------------------------------------------------------------------------- #
